{
  "nbformat": 4,
  "nbformat_minor": 0,
  "metadata": {
    "colab": {
      "name": "TextProcessingHW.ipynb",
      "provenance": [],
      "collapsed_sections": [],
      "authorship_tag": "ABX9TyM0tf2K52ihe2acvTDUjkRe",
      "include_colab_link": true
    },
    "kernelspec": {
      "name": "python3",
      "display_name": "Python 3"
    },
    "language_info": {
      "name": "python"
    }
  },
  "cells": [
    {
      "cell_type": "markdown",
      "metadata": {
        "id": "view-in-github",
        "colab_type": "text"
      },
      "source": [
        "<a href=\"https://colab.research.google.com/github/roseleen-kaur/DataAnalytics_2022_Summer/blob/main/TextProcessingHW.ipynb\" target=\"_parent\"><img src=\"https://colab.research.google.com/assets/colab-badge.svg\" alt=\"Open In Colab\"/></a>"
      ]
    },
    {
      "cell_type": "markdown",
      "source": [
        "#TEXT PROCESSING HOMEWORK#\n",
        "Roseleen Kaur"
      ],
      "metadata": {
        "id": "Ag-MRsHmxbcF"
      }
    },
    {
      "cell_type": "markdown",
      "source": [
        "Using this:\n",
        "\n",
        "\"555-1239Dr. Bernard Lander(636) 555-0113Hollingdorp, Donnatella555-6542Fitzgerald, F. Sco\\\n",
        "tt555 8904Rev. Martin Luther King636-555-3226Snodgrass, Theodore5553642Carlamina Scarfoni\"\n"
      ],
      "metadata": {
        "id": "sDkeEWa9xrbC"
      }
    },
    {
      "cell_type": "markdown",
      "source": [
        "###Question 1###\n",
        "Extract the numbers"
      ],
      "metadata": {
        "id": "w6jGWU1Dxii6"
      }
    },
    {
      "cell_type": "code",
      "source": [
        "import re\n",
        "import pandas as pd\n",
        "import numpy as np\n",
        "\n",
        "text = \"555-1239Dr. Bernard Lander(636) 555-0113Hollingdorp, Donnatella555-6542Fitzgerald, F. Scott555 8904Rev. Martin Luther King636-555-3226Snodgrass, Theodore5553642Carlamina Scarfoni\"\n",
        "print(text)\n",
        "#finding all numbers\n",
        "nums = re.findall('[0-9]+', text)\n",
        "print(f'Numbers: {nums}')\n"
      ],
      "metadata": {
        "colab": {
          "base_uri": "https://localhost:8080/"
        },
        "id": "b4X1uw_Rxxxc",
        "outputId": "af9b2c27-4f81-428f-a6c9-554d6928059e"
      },
      "execution_count": 3,
      "outputs": [
        {
          "output_type": "stream",
          "name": "stdout",
          "text": [
            "555-1239Dr. Bernard Lander(636) 555-0113Hollingdorp, Donnatella555-6542Fitzgerald, F. Scott555 8904Rev. Martin Luther King636-555-3226Snodgrass, Theodore5553642Carlamina Scarfoni\n",
            "Numbers: ['555', '1239', '636', '555', '0113', '555', '6542', '555', '8904', '636', '555', '3226', '5553642']\n"
          ]
        }
      ]
    },
    {
      "cell_type": "markdown",
      "source": [
        "###Question 2###\n",
        "Extract the names"
      ],
      "metadata": {
        "id": "aeFhITKLzUP8"
      }
    },
    {
      "cell_type": "code",
      "source": [
        "#extracting names\n",
        "#these are just the names in the string, no titles\n",
        "names = re.findall('[A-Za-z]{5,}', text)\n",
        "print(names)\n"
      ],
      "metadata": {
        "colab": {
          "base_uri": "https://localhost:8080/"
        },
        "id": "NPKvF9nvzZhR",
        "outputId": "94e964eb-78ad-4e44-e6c7-74a0a789b442"
      },
      "execution_count": 19,
      "outputs": [
        {
          "output_type": "stream",
          "name": "stdout",
          "text": [
            "['Bernard', 'Lander', 'Hollingdorp', 'Donnatella', 'Fitzgerald', 'Scott', 'Martin', 'Luther', 'Snodgrass', 'Theodore', 'Carlamina', 'Scarfoni']\n"
          ]
        }
      ]
    },
    {
      "cell_type": "markdown",
      "source": [
        "###Question 3###\n",
        "Rearrange the vector so that all elements conform to the standard “firstname lastname”, preserving any titles (e.g., “Rev.”, “Dr.”, etc) or middle/second names.\n"
      ],
      "metadata": {
        "id": "-XwQk-ZR2pjc"
      }
    },
    {
      "cell_type": "code",
      "source": [
        "#https://stackoverflow.com/questions/55194224/extract-names-from-string-with-python-regex\n",
        "full_names = re.findall(r\"[^()0-9-]+\", text)\n",
        "#https://stackoverflow.com/questions/3845423/remove-empty-strings-from-a-list-of-strings\n",
        "#didn't know what function to use so i went online\n",
        "fixed = [x for x in full_names if x.strip()]\n",
        "print(fixed)\n",
        "#here i turn it in to the vector list for question 4\n",
        "fixed = pd.Series(fixed)\n",
        "fixed\n",
        "#can't figure out how to get it in proper name order"
      ],
      "metadata": {
        "colab": {
          "base_uri": "https://localhost:8080/"
        },
        "id": "_kuE6ltg20Sv",
        "outputId": "879bfcd9-2a84-4d30-e856-6334ed480100"
      },
      "execution_count": 110,
      "outputs": [
        {
          "output_type": "stream",
          "name": "stdout",
          "text": [
            "['Dr. Bernard Lander', 'Hollingdorp, Donnatella', 'Fitzgerald, F. Scott', 'Rev. Martin Luther King', 'Snodgrass, Theodore', 'Carlamina Scarfoni']\n"
          ]
        },
        {
          "output_type": "execute_result",
          "data": {
            "text/plain": [
              "0         Dr. Bernard Lander\n",
              "1    Hollingdorp, Donnatella\n",
              "2       Fitzgerald, F. Scott\n",
              "3    Rev. Martin Luther King\n",
              "4        Snodgrass, Theodore\n",
              "5         Carlamina Scarfoni\n",
              "dtype: object"
            ]
          },
          "metadata": {},
          "execution_count": 110
        }
      ]
    },
    {
      "cell_type": "markdown",
      "source": [
        "###Question 4###\n",
        "Construct a logical vector indicating whether a character has a title (i.e., Rev. and Dr."
      ],
      "metadata": {
        "id": "fP8rjYy-Id8l"
      }
    },
    {
      "cell_type": "code",
      "source": [
        "for x in range(len(fixed)): \n",
        "  x = [fixed.str.contains('Dr.'), fixed.str.contains('Rev.')]\n",
        "print(x)\n"
      ],
      "metadata": {
        "colab": {
          "base_uri": "https://localhost:8080/"
        },
        "id": "WpdSJduKIeWO",
        "outputId": "17bd4af0-589d-4d53-9170-1323f270b344"
      },
      "execution_count": 109,
      "outputs": [
        {
          "output_type": "stream",
          "name": "stdout",
          "text": [
            "[0     True\n",
            "1    False\n",
            "2    False\n",
            "3    False\n",
            "4    False\n",
            "5    False\n",
            "dtype: bool, 0    False\n",
            "1    False\n",
            "2    False\n",
            "3     True\n",
            "4    False\n",
            "5    False\n",
            "dtype: bool]\n"
          ]
        }
      ]
    },
    {
      "cell_type": "markdown",
      "source": [
        "###Question 5###\n",
        "Construct a logical vector indicating whether a character has a middle/second name"
      ],
      "metadata": {
        "id": "RtJoPj1-7Tkt"
      }
    },
    {
      "cell_type": "code",
      "source": [
        "#since i couldnt figure out how to get the names in order this wasn't \n",
        "#working out for me but i would do\n",
        "for x in range(len(fixed)):\n",
        "  x = fixed.str.contains(something to represent middle name)\n",
        "print(x)"
      ],
      "metadata": {
        "id": "x8FpY43gMvV_"
      },
      "execution_count": 108,
      "outputs": []
    },
    {
      "cell_type": "markdown",
      "source": [
        "###Question 6 ###\n",
        "Consider the HTML string \n",
        "<title>+++BREAKING NEWS+++<title>. \n",
        "We would like to extract the first HTML tag (i.e., “<title>”). To do so we write the regular expression “<.+>”. Explain why this fails and correct the expression."
      ],
      "metadata": {
        "id": "1h8RT_I-APxI"
      }
    },
    {
      "cell_type": "code",
      "source": [
        "string = \"<title>+++BREAKING NEWS+++<title>\"\n",
        "yo = re.findall('<.+>',string)\n",
        "print(yo)"
      ],
      "metadata": {
        "colab": {
          "base_uri": "https://localhost:8080/"
        },
        "id": "KNzZyCxXA5Ji",
        "outputId": "449e0615-241a-4bf1-da07-726e0334dab0"
      },
      "execution_count": 114,
      "outputs": [
        {
          "output_type": "stream",
          "name": "stdout",
          "text": [
            "['<title>+++BREAKING NEWS+++<title>']\n"
          ]
        }
      ]
    },
    {
      "cell_type": "markdown",
      "source": [
        "When we used \"<.+>\" to extract “< title >” we get the whole entire string instead. That is because .+ means that is matches any characters, in the string"
      ],
      "metadata": {
        "id": "mf3XgxEHBSTg"
      }
    },
    {
      "cell_type": "code",
      "source": [
        "ya = re.findall('^.{7}',string)\n",
        "ye = re.findall('^<title>',string)\n",
        "# if you want to get the one at the end of the string\n",
        "yi = re.findall('<title>$',string)\n",
        "yu = re.findall('.{7}$',string)\n",
        "print('^.{7}\\t',ya,'\\n^<title>',ye,'\\n<title>$ ',yi,'\\n.{7}$\\t',yu)"
      ],
      "metadata": {
        "colab": {
          "base_uri": "https://localhost:8080/"
        },
        "id": "-T3ZlwBdE-9b",
        "outputId": "0e969e46-f6c1-4440-ef6a-252221ba72c8"
      },
      "execution_count": 115,
      "outputs": [
        {
          "output_type": "stream",
          "name": "stdout",
          "text": [
            "^.{7}\t ['<title>'] \n",
            "^<title> ['<title>'] \n",
            "<title>$  ['<title>'] \n",
            ".{7}$\t ['<title>']\n"
          ]
        }
      ]
    },
    {
      "cell_type": "markdown",
      "source": [
        "### Question 7 ###\n",
        "Consider the string “(5-3)^2=5^2-2*5*3+3^2”. We would like to extract the equation in its entirety from the string. To do so we write the regular expression “[^0-9=+*()]+”. Explain why this fails and correct the expression."
      ],
      "metadata": {
        "id": "QS2hboauIrP2"
      }
    },
    {
      "cell_type": "code",
      "source": [
        "equ =  \"(5-3)^2=5^2-253+3^2\"\n",
        "find = re.findall('[^0-9=+*()]+', equ)\n",
        "print(find)"
      ],
      "metadata": {
        "colab": {
          "base_uri": "https://localhost:8080/"
        },
        "id": "SjCnkD2dIwud",
        "outputId": "fa4df0c9-e8aa-4f45-974f-3eef703476cf"
      },
      "execution_count": 100,
      "outputs": [
        {
          "output_type": "stream",
          "name": "stdout",
          "text": [
            "['-', '^', '^', '-', '^']\n"
          ]
        }
      ]
    },
    {
      "cell_type": "markdown",
      "source": [
        "This prints all of the characters in the string that are in =+*() list from the beginnging on or list not the string."
      ],
      "metadata": {
        "id": "5S2FJ2k2JNa_"
      }
    },
    {
      "cell_type": "code",
      "source": [
        "find2 = re.findall('[(0-9)\\W]+', equ)\n",
        "print(find2)"
      ],
      "metadata": {
        "colab": {
          "base_uri": "https://localhost:8080/"
        },
        "id": "IJnopgHxJrNM",
        "outputId": "68787910-eb6c-45fc-f7f6-42d79e23f0f8"
      },
      "execution_count": 98,
      "outputs": [
        {
          "output_type": "stream",
          "name": "stdout",
          "text": [
            "['(5-3)^2=5^2-253+3^2']\n"
          ]
        }
      ]
    }
  ]
}