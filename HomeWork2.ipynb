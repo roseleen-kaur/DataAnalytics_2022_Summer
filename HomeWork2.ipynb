{
  "nbformat": 4,
  "nbformat_minor": 0,
  "metadata": {
    "colab": {
      "name": "HomeWork2.ipynb",
      "provenance": [],
      "collapsed_sections": [],
      "authorship_tag": "ABX9TyMRyfraq5UID+U//55LSJ+8",
      "include_colab_link": true
    },
    "kernelspec": {
      "name": "python3",
      "display_name": "Python 3"
    },
    "language_info": {
      "name": "python"
    }
  },
  "cells": [
    {
      "cell_type": "markdown",
      "metadata": {
        "id": "view-in-github",
        "colab_type": "text"
      },
      "source": [
        "<a href=\"https://colab.research.google.com/github/roseleen-kaur/DataAnalytics_2022_Summer/blob/main/HomeWork2.ipynb\" target=\"_parent\"><img src=\"https://colab.research.google.com/assets/colab-badge.svg\" alt=\"Open In Colab\"/></a>"
      ]
    },
    {
      "cell_type": "markdown",
      "source": [
        "##Car Data##\n",
        "###Number 1###"
      ],
      "metadata": {
        "id": "reXbjp7XTSe_"
      }
    },
    {
      "cell_type": "code",
      "source": [
        "import pandas as pd\n",
        "import numpy as np\n",
        "\n",
        "df = pd.read_csv('https://raw.githubusercontent.com/roseleen-kaur/DataAnalytics_2022_Summer/main/cars-sample35.csv', \n",
        "                 names = ['Price', 'Maintenance Cost', 'Number of Doors', \n",
        "                          'Number of Passengers', 'Luggage Capacity', 'Safetey Rating', 'Classification of Vehicle'])\n",
        "df"
      ],
      "metadata": {
        "id": "Ozk20JZiW9dJ",
        "colab": {
          "base_uri": "https://localhost:8080/",
          "height": 1000
        },
        "outputId": "def0849d-c349-4ff1-d10d-99c6df2bd936"
      },
      "execution_count": 151,
      "outputs": [
        {
          "output_type": "execute_result",
          "data": {
            "text/plain": [
              "    Price Maintenance Cost Number of Doors Number of Passengers  \\\n",
              "0    high             high               2                    4   \n",
              "1    high             high               4                 more   \n",
              "2    high             high               4                 more   \n",
              "3    high              low               2                 more   \n",
              "4   vhigh              low               3                    2   \n",
              "5     low             high               2                    2   \n",
              "6     med              med               4                 more   \n",
              "7     low              low               3                    2   \n",
              "8   vhigh              low               2                    2   \n",
              "9   vhigh             high               4                    4   \n",
              "10    low              low               2                    2   \n",
              "11  vhigh              low               4                 more   \n",
              "12   high              low               2                    4   \n",
              "13    low            vhigh               3                 more   \n",
              "14   high              low           5more                    2   \n",
              "15  vhigh             high               2                 more   \n",
              "16    med              med               2                    2   \n",
              "17   high              low           5more                    4   \n",
              "18    low              low               3                 more   \n",
              "19    low              low               2                    2   \n",
              "20    med             high               4                    2   \n",
              "21    low              low               2                    2   \n",
              "22  vhigh             high           5more                    4   \n",
              "23    med            vhigh               2                    2   \n",
              "24    low            vhigh               4                    4   \n",
              "25  vhigh              low               3                 more   \n",
              "26    med            vhigh               3                    4   \n",
              "27   high             high               3                    4   \n",
              "28    low             high           5more                    2   \n",
              "29    med             high           5more                    2   \n",
              "30   high              low               3                    4   \n",
              "31   high            vhigh           5more                    4   \n",
              "32    low              low           5more                    2   \n",
              "33  vhigh            vhigh               4                    2   \n",
              "34   high              low               3                    2   \n",
              "\n",
              "   Luggage Capacity Safetey Rating Classification of Vehicle  \n",
              "0               med            low                     unacc  \n",
              "1             small           high                       acc  \n",
              "2               big            low                     unacc  \n",
              "3               big           high                       acc  \n",
              "4               med            med                     unacc  \n",
              "5             small            low                     unacc  \n",
              "6               med           high                     vgood  \n",
              "7               big            med                     unacc  \n",
              "8             small            low                     unacc  \n",
              "9               med            low                     unacc  \n",
              "10              med            med                     unacc  \n",
              "11            small           high                       acc  \n",
              "12              big            med                       acc  \n",
              "13              big            low                     unacc  \n",
              "14              big            med                     unacc  \n",
              "15              med           high                     unacc  \n",
              "16            small            low                     unacc  \n",
              "17              med           high                       acc  \n",
              "18              med           high                     vgood  \n",
              "19              big            med                     unacc  \n",
              "20              big           high                     unacc  \n",
              "21            small           high                     unacc  \n",
              "22              med            med                     unacc  \n",
              "23              big            low                     unacc  \n",
              "24              big            low                     unacc  \n",
              "25              big            low                     unacc  \n",
              "26            small            low                     unacc  \n",
              "27              med            med                     unacc  \n",
              "28              big            low                     unacc  \n",
              "29              med            med                     unacc  \n",
              "30              med           high                       acc  \n",
              "31              med            med                     unacc  \n",
              "32              med            low                     unacc  \n",
              "33              big           high                     unacc  \n",
              "34              big           high                     unacc  "
            ],
            "text/html": [
              "\n",
              "  <div id=\"df-547967bf-60bd-4f09-9ee3-e7f27feab3a0\">\n",
              "    <div class=\"colab-df-container\">\n",
              "      <div>\n",
              "<style scoped>\n",
              "    .dataframe tbody tr th:only-of-type {\n",
              "        vertical-align: middle;\n",
              "    }\n",
              "\n",
              "    .dataframe tbody tr th {\n",
              "        vertical-align: top;\n",
              "    }\n",
              "\n",
              "    .dataframe thead th {\n",
              "        text-align: right;\n",
              "    }\n",
              "</style>\n",
              "<table border=\"1\" class=\"dataframe\">\n",
              "  <thead>\n",
              "    <tr style=\"text-align: right;\">\n",
              "      <th></th>\n",
              "      <th>Price</th>\n",
              "      <th>Maintenance Cost</th>\n",
              "      <th>Number of Doors</th>\n",
              "      <th>Number of Passengers</th>\n",
              "      <th>Luggage Capacity</th>\n",
              "      <th>Safetey Rating</th>\n",
              "      <th>Classification of Vehicle</th>\n",
              "    </tr>\n",
              "  </thead>\n",
              "  <tbody>\n",
              "    <tr>\n",
              "      <th>0</th>\n",
              "      <td>high</td>\n",
              "      <td>high</td>\n",
              "      <td>2</td>\n",
              "      <td>4</td>\n",
              "      <td>med</td>\n",
              "      <td>low</td>\n",
              "      <td>unacc</td>\n",
              "    </tr>\n",
              "    <tr>\n",
              "      <th>1</th>\n",
              "      <td>high</td>\n",
              "      <td>high</td>\n",
              "      <td>4</td>\n",
              "      <td>more</td>\n",
              "      <td>small</td>\n",
              "      <td>high</td>\n",
              "      <td>acc</td>\n",
              "    </tr>\n",
              "    <tr>\n",
              "      <th>2</th>\n",
              "      <td>high</td>\n",
              "      <td>high</td>\n",
              "      <td>4</td>\n",
              "      <td>more</td>\n",
              "      <td>big</td>\n",
              "      <td>low</td>\n",
              "      <td>unacc</td>\n",
              "    </tr>\n",
              "    <tr>\n",
              "      <th>3</th>\n",
              "      <td>high</td>\n",
              "      <td>low</td>\n",
              "      <td>2</td>\n",
              "      <td>more</td>\n",
              "      <td>big</td>\n",
              "      <td>high</td>\n",
              "      <td>acc</td>\n",
              "    </tr>\n",
              "    <tr>\n",
              "      <th>4</th>\n",
              "      <td>vhigh</td>\n",
              "      <td>low</td>\n",
              "      <td>3</td>\n",
              "      <td>2</td>\n",
              "      <td>med</td>\n",
              "      <td>med</td>\n",
              "      <td>unacc</td>\n",
              "    </tr>\n",
              "    <tr>\n",
              "      <th>5</th>\n",
              "      <td>low</td>\n",
              "      <td>high</td>\n",
              "      <td>2</td>\n",
              "      <td>2</td>\n",
              "      <td>small</td>\n",
              "      <td>low</td>\n",
              "      <td>unacc</td>\n",
              "    </tr>\n",
              "    <tr>\n",
              "      <th>6</th>\n",
              "      <td>med</td>\n",
              "      <td>med</td>\n",
              "      <td>4</td>\n",
              "      <td>more</td>\n",
              "      <td>med</td>\n",
              "      <td>high</td>\n",
              "      <td>vgood</td>\n",
              "    </tr>\n",
              "    <tr>\n",
              "      <th>7</th>\n",
              "      <td>low</td>\n",
              "      <td>low</td>\n",
              "      <td>3</td>\n",
              "      <td>2</td>\n",
              "      <td>big</td>\n",
              "      <td>med</td>\n",
              "      <td>unacc</td>\n",
              "    </tr>\n",
              "    <tr>\n",
              "      <th>8</th>\n",
              "      <td>vhigh</td>\n",
              "      <td>low</td>\n",
              "      <td>2</td>\n",
              "      <td>2</td>\n",
              "      <td>small</td>\n",
              "      <td>low</td>\n",
              "      <td>unacc</td>\n",
              "    </tr>\n",
              "    <tr>\n",
              "      <th>9</th>\n",
              "      <td>vhigh</td>\n",
              "      <td>high</td>\n",
              "      <td>4</td>\n",
              "      <td>4</td>\n",
              "      <td>med</td>\n",
              "      <td>low</td>\n",
              "      <td>unacc</td>\n",
              "    </tr>\n",
              "    <tr>\n",
              "      <th>10</th>\n",
              "      <td>low</td>\n",
              "      <td>low</td>\n",
              "      <td>2</td>\n",
              "      <td>2</td>\n",
              "      <td>med</td>\n",
              "      <td>med</td>\n",
              "      <td>unacc</td>\n",
              "    </tr>\n",
              "    <tr>\n",
              "      <th>11</th>\n",
              "      <td>vhigh</td>\n",
              "      <td>low</td>\n",
              "      <td>4</td>\n",
              "      <td>more</td>\n",
              "      <td>small</td>\n",
              "      <td>high</td>\n",
              "      <td>acc</td>\n",
              "    </tr>\n",
              "    <tr>\n",
              "      <th>12</th>\n",
              "      <td>high</td>\n",
              "      <td>low</td>\n",
              "      <td>2</td>\n",
              "      <td>4</td>\n",
              "      <td>big</td>\n",
              "      <td>med</td>\n",
              "      <td>acc</td>\n",
              "    </tr>\n",
              "    <tr>\n",
              "      <th>13</th>\n",
              "      <td>low</td>\n",
              "      <td>vhigh</td>\n",
              "      <td>3</td>\n",
              "      <td>more</td>\n",
              "      <td>big</td>\n",
              "      <td>low</td>\n",
              "      <td>unacc</td>\n",
              "    </tr>\n",
              "    <tr>\n",
              "      <th>14</th>\n",
              "      <td>high</td>\n",
              "      <td>low</td>\n",
              "      <td>5more</td>\n",
              "      <td>2</td>\n",
              "      <td>big</td>\n",
              "      <td>med</td>\n",
              "      <td>unacc</td>\n",
              "    </tr>\n",
              "    <tr>\n",
              "      <th>15</th>\n",
              "      <td>vhigh</td>\n",
              "      <td>high</td>\n",
              "      <td>2</td>\n",
              "      <td>more</td>\n",
              "      <td>med</td>\n",
              "      <td>high</td>\n",
              "      <td>unacc</td>\n",
              "    </tr>\n",
              "    <tr>\n",
              "      <th>16</th>\n",
              "      <td>med</td>\n",
              "      <td>med</td>\n",
              "      <td>2</td>\n",
              "      <td>2</td>\n",
              "      <td>small</td>\n",
              "      <td>low</td>\n",
              "      <td>unacc</td>\n",
              "    </tr>\n",
              "    <tr>\n",
              "      <th>17</th>\n",
              "      <td>high</td>\n",
              "      <td>low</td>\n",
              "      <td>5more</td>\n",
              "      <td>4</td>\n",
              "      <td>med</td>\n",
              "      <td>high</td>\n",
              "      <td>acc</td>\n",
              "    </tr>\n",
              "    <tr>\n",
              "      <th>18</th>\n",
              "      <td>low</td>\n",
              "      <td>low</td>\n",
              "      <td>3</td>\n",
              "      <td>more</td>\n",
              "      <td>med</td>\n",
              "      <td>high</td>\n",
              "      <td>vgood</td>\n",
              "    </tr>\n",
              "    <tr>\n",
              "      <th>19</th>\n",
              "      <td>low</td>\n",
              "      <td>low</td>\n",
              "      <td>2</td>\n",
              "      <td>2</td>\n",
              "      <td>big</td>\n",
              "      <td>med</td>\n",
              "      <td>unacc</td>\n",
              "    </tr>\n",
              "    <tr>\n",
              "      <th>20</th>\n",
              "      <td>med</td>\n",
              "      <td>high</td>\n",
              "      <td>4</td>\n",
              "      <td>2</td>\n",
              "      <td>big</td>\n",
              "      <td>high</td>\n",
              "      <td>unacc</td>\n",
              "    </tr>\n",
              "    <tr>\n",
              "      <th>21</th>\n",
              "      <td>low</td>\n",
              "      <td>low</td>\n",
              "      <td>2</td>\n",
              "      <td>2</td>\n",
              "      <td>small</td>\n",
              "      <td>high</td>\n",
              "      <td>unacc</td>\n",
              "    </tr>\n",
              "    <tr>\n",
              "      <th>22</th>\n",
              "      <td>vhigh</td>\n",
              "      <td>high</td>\n",
              "      <td>5more</td>\n",
              "      <td>4</td>\n",
              "      <td>med</td>\n",
              "      <td>med</td>\n",
              "      <td>unacc</td>\n",
              "    </tr>\n",
              "    <tr>\n",
              "      <th>23</th>\n",
              "      <td>med</td>\n",
              "      <td>vhigh</td>\n",
              "      <td>2</td>\n",
              "      <td>2</td>\n",
              "      <td>big</td>\n",
              "      <td>low</td>\n",
              "      <td>unacc</td>\n",
              "    </tr>\n",
              "    <tr>\n",
              "      <th>24</th>\n",
              "      <td>low</td>\n",
              "      <td>vhigh</td>\n",
              "      <td>4</td>\n",
              "      <td>4</td>\n",
              "      <td>big</td>\n",
              "      <td>low</td>\n",
              "      <td>unacc</td>\n",
              "    </tr>\n",
              "    <tr>\n",
              "      <th>25</th>\n",
              "      <td>vhigh</td>\n",
              "      <td>low</td>\n",
              "      <td>3</td>\n",
              "      <td>more</td>\n",
              "      <td>big</td>\n",
              "      <td>low</td>\n",
              "      <td>unacc</td>\n",
              "    </tr>\n",
              "    <tr>\n",
              "      <th>26</th>\n",
              "      <td>med</td>\n",
              "      <td>vhigh</td>\n",
              "      <td>3</td>\n",
              "      <td>4</td>\n",
              "      <td>small</td>\n",
              "      <td>low</td>\n",
              "      <td>unacc</td>\n",
              "    </tr>\n",
              "    <tr>\n",
              "      <th>27</th>\n",
              "      <td>high</td>\n",
              "      <td>high</td>\n",
              "      <td>3</td>\n",
              "      <td>4</td>\n",
              "      <td>med</td>\n",
              "      <td>med</td>\n",
              "      <td>unacc</td>\n",
              "    </tr>\n",
              "    <tr>\n",
              "      <th>28</th>\n",
              "      <td>low</td>\n",
              "      <td>high</td>\n",
              "      <td>5more</td>\n",
              "      <td>2</td>\n",
              "      <td>big</td>\n",
              "      <td>low</td>\n",
              "      <td>unacc</td>\n",
              "    </tr>\n",
              "    <tr>\n",
              "      <th>29</th>\n",
              "      <td>med</td>\n",
              "      <td>high</td>\n",
              "      <td>5more</td>\n",
              "      <td>2</td>\n",
              "      <td>med</td>\n",
              "      <td>med</td>\n",
              "      <td>unacc</td>\n",
              "    </tr>\n",
              "    <tr>\n",
              "      <th>30</th>\n",
              "      <td>high</td>\n",
              "      <td>low</td>\n",
              "      <td>3</td>\n",
              "      <td>4</td>\n",
              "      <td>med</td>\n",
              "      <td>high</td>\n",
              "      <td>acc</td>\n",
              "    </tr>\n",
              "    <tr>\n",
              "      <th>31</th>\n",
              "      <td>high</td>\n",
              "      <td>vhigh</td>\n",
              "      <td>5more</td>\n",
              "      <td>4</td>\n",
              "      <td>med</td>\n",
              "      <td>med</td>\n",
              "      <td>unacc</td>\n",
              "    </tr>\n",
              "    <tr>\n",
              "      <th>32</th>\n",
              "      <td>low</td>\n",
              "      <td>low</td>\n",
              "      <td>5more</td>\n",
              "      <td>2</td>\n",
              "      <td>med</td>\n",
              "      <td>low</td>\n",
              "      <td>unacc</td>\n",
              "    </tr>\n",
              "    <tr>\n",
              "      <th>33</th>\n",
              "      <td>vhigh</td>\n",
              "      <td>vhigh</td>\n",
              "      <td>4</td>\n",
              "      <td>2</td>\n",
              "      <td>big</td>\n",
              "      <td>high</td>\n",
              "      <td>unacc</td>\n",
              "    </tr>\n",
              "    <tr>\n",
              "      <th>34</th>\n",
              "      <td>high</td>\n",
              "      <td>low</td>\n",
              "      <td>3</td>\n",
              "      <td>2</td>\n",
              "      <td>big</td>\n",
              "      <td>high</td>\n",
              "      <td>unacc</td>\n",
              "    </tr>\n",
              "  </tbody>\n",
              "</table>\n",
              "</div>\n",
              "      <button class=\"colab-df-convert\" onclick=\"convertToInteractive('df-547967bf-60bd-4f09-9ee3-e7f27feab3a0')\"\n",
              "              title=\"Convert this dataframe to an interactive table.\"\n",
              "              style=\"display:none;\">\n",
              "        \n",
              "  <svg xmlns=\"http://www.w3.org/2000/svg\" height=\"24px\"viewBox=\"0 0 24 24\"\n",
              "       width=\"24px\">\n",
              "    <path d=\"M0 0h24v24H0V0z\" fill=\"none\"/>\n",
              "    <path d=\"M18.56 5.44l.94 2.06.94-2.06 2.06-.94-2.06-.94-.94-2.06-.94 2.06-2.06.94zm-11 1L8.5 8.5l.94-2.06 2.06-.94-2.06-.94L8.5 2.5l-.94 2.06-2.06.94zm10 10l.94 2.06.94-2.06 2.06-.94-2.06-.94-.94-2.06-.94 2.06-2.06.94z\"/><path d=\"M17.41 7.96l-1.37-1.37c-.4-.4-.92-.59-1.43-.59-.52 0-1.04.2-1.43.59L10.3 9.45l-7.72 7.72c-.78.78-.78 2.05 0 2.83L4 21.41c.39.39.9.59 1.41.59.51 0 1.02-.2 1.41-.59l7.78-7.78 2.81-2.81c.8-.78.8-2.07 0-2.86zM5.41 20L4 18.59l7.72-7.72 1.47 1.35L5.41 20z\"/>\n",
              "  </svg>\n",
              "      </button>\n",
              "      \n",
              "  <style>\n",
              "    .colab-df-container {\n",
              "      display:flex;\n",
              "      flex-wrap:wrap;\n",
              "      gap: 12px;\n",
              "    }\n",
              "\n",
              "    .colab-df-convert {\n",
              "      background-color: #E8F0FE;\n",
              "      border: none;\n",
              "      border-radius: 50%;\n",
              "      cursor: pointer;\n",
              "      display: none;\n",
              "      fill: #1967D2;\n",
              "      height: 32px;\n",
              "      padding: 0 0 0 0;\n",
              "      width: 32px;\n",
              "    }\n",
              "\n",
              "    .colab-df-convert:hover {\n",
              "      background-color: #E2EBFA;\n",
              "      box-shadow: 0px 1px 2px rgba(60, 64, 67, 0.3), 0px 1px 3px 1px rgba(60, 64, 67, 0.15);\n",
              "      fill: #174EA6;\n",
              "    }\n",
              "\n",
              "    [theme=dark] .colab-df-convert {\n",
              "      background-color: #3B4455;\n",
              "      fill: #D2E3FC;\n",
              "    }\n",
              "\n",
              "    [theme=dark] .colab-df-convert:hover {\n",
              "      background-color: #434B5C;\n",
              "      box-shadow: 0px 1px 3px 1px rgba(0, 0, 0, 0.15);\n",
              "      filter: drop-shadow(0px 1px 2px rgba(0, 0, 0, 0.3));\n",
              "      fill: #FFFFFF;\n",
              "    }\n",
              "  </style>\n",
              "\n",
              "      <script>\n",
              "        const buttonEl =\n",
              "          document.querySelector('#df-547967bf-60bd-4f09-9ee3-e7f27feab3a0 button.colab-df-convert');\n",
              "        buttonEl.style.display =\n",
              "          google.colab.kernel.accessAllowed ? 'block' : 'none';\n",
              "\n",
              "        async function convertToInteractive(key) {\n",
              "          const element = document.querySelector('#df-547967bf-60bd-4f09-9ee3-e7f27feab3a0');\n",
              "          const dataTable =\n",
              "            await google.colab.kernel.invokeFunction('convertToInteractive',\n",
              "                                                     [key], {});\n",
              "          if (!dataTable) return;\n",
              "\n",
              "          const docLinkHtml = 'Like what you see? Visit the ' +\n",
              "            '<a target=\"_blank\" href=https://colab.research.google.com/notebooks/data_table.ipynb>data table notebook</a>'\n",
              "            + ' to learn more about interactive tables.';\n",
              "          element.innerHTML = '';\n",
              "          dataTable['output_type'] = 'display_data';\n",
              "          await google.colab.output.renderOutput(dataTable, element);\n",
              "          const docLink = document.createElement('div');\n",
              "          docLink.innerHTML = docLinkHtml;\n",
              "          element.appendChild(docLink);\n",
              "        }\n",
              "      </script>\n",
              "    </div>\n",
              "  </div>\n",
              "  "
            ]
          },
          "metadata": {},
          "execution_count": 151
        }
      ]
    },
    {
      "cell_type": "markdown",
      "source": [
        "###Question 2###\n",
        "Extract these seven attributes from each line of the file and create seven distinct Python list objects comprised solely of the values you extracted for a given attribute. In other words, you should have lists of prices, maintenance costs, number of doors, etc.\n"
      ],
      "metadata": {
        "id": "1Q6ivg3GkKYc"
      }
    },
    {
      "cell_type": "code",
      "source": [
        "#doing tolist() to make all the columns, lists\n",
        "Price = df['Price'].tolist()\n",
        "Maintenance_Cost = df['Maintenance Cost'].tolist()\n",
        "Number_of_Doors = df['Number of Doors'].tolist()\n",
        "Number_of_Passengers = df['Number of Passengers'].tolist()\n",
        "Luggage_Capacity = df['Luggage Capacity'].tolist()\n",
        "Safetey_Rating = df['Safetey Rating'].tolist()\n",
        "Classification_of_Vehicle = df['Classification of Vehicle'].tolist()\n",
        "\n",
        "print(f'Price {Price}')\n",
        "print(f'Maintenance Cost \\n {Maintenance_Cost}')\n",
        "print(f'Number of Doors \\n {Number_of_Doors}')\n",
        "print(f'Number of Passengers \\n {Number_of_Passengers}')\n",
        "print(f'Luggage Capacity \\n {Luggage_Capacity}')\n",
        "print(f'Safetey Rating \\n {Safetey_Rating}')\n",
        "print(f'Classification of Vehicle \\n {Classification_of_Vehicle}')\n",
        "\n"
      ],
      "metadata": {
        "id": "qtLhMtsEkTez",
        "colab": {
          "base_uri": "https://localhost:8080/"
        },
        "outputId": "b09ccdff-0900-49ef-a75f-9781f43ecdbe"
      },
      "execution_count": 152,
      "outputs": [
        {
          "output_type": "stream",
          "name": "stdout",
          "text": [
            "Price ['high', 'high', 'high', 'high', 'vhigh', 'low', 'med', 'low', 'vhigh', 'vhigh', 'low', 'vhigh', 'high', 'low', 'high', 'vhigh', 'med', 'high', 'low', 'low', 'med', 'low', 'vhigh', 'med', 'low', 'vhigh', 'med', 'high', 'low', 'med', 'high', 'high', 'low', 'vhigh', 'high']\n",
            "Maintenance Cost \n",
            " ['high', 'high', 'high', 'low', 'low', 'high', 'med', 'low', 'low', 'high', 'low', 'low', 'low', 'vhigh', 'low', 'high', 'med', 'low', 'low', 'low', 'high', 'low', 'high', 'vhigh', 'vhigh', 'low', 'vhigh', 'high', 'high', 'high', 'low', 'vhigh', 'low', 'vhigh', 'low']\n",
            "Number of Doors \n",
            " ['2', '4', '4', '2', '3', '2', '4', '3', '2', '4', '2', '4', '2', '3', '5more', '2', '2', '5more', '3', '2', '4', '2', '5more', '2', '4', '3', '3', '3', '5more', '5more', '3', '5more', '5more', '4', '3']\n",
            "Number of Passengers \n",
            " ['4', 'more', 'more', 'more', '2', '2', 'more', '2', '2', '4', '2', 'more', '4', 'more', '2', 'more', '2', '4', 'more', '2', '2', '2', '4', '2', '4', 'more', '4', '4', '2', '2', '4', '4', '2', '2', '2']\n",
            "Luggage Capacity \n",
            " ['med', 'small', 'big', 'big', 'med', 'small', 'med', 'big', 'small', 'med', 'med', 'small', 'big', 'big', 'big', 'med', 'small', 'med', 'med', 'big', 'big', 'small', 'med', 'big', 'big', 'big', 'small', 'med', 'big', 'med', 'med', 'med', 'med', 'big', 'big']\n",
            "Safetey Rating \n",
            " ['low', 'high', 'low', 'high', 'med', 'low', 'high', 'med', 'low', 'low', 'med', 'high', 'med', 'low', 'med', 'high', 'low', 'high', 'high', 'med', 'high', 'high', 'med', 'low', 'low', 'low', 'low', 'med', 'low', 'med', 'high', 'med', 'low', 'high', 'high']\n",
            "Classification of Vehicle \n",
            " ['unacc', 'acc', 'unacc', 'acc', 'unacc', 'unacc', 'vgood', 'unacc', 'unacc', 'unacc', 'unacc', 'acc', 'acc', 'unacc', 'unacc', 'unacc', 'unacc', 'acc', 'vgood', 'unacc', 'unacc', 'unacc', 'unacc', 'unacc', 'unacc', 'unacc', 'unacc', 'unacc', 'unacc', 'unacc', 'acc', 'unacc', 'unacc', 'unacc', 'unacc']\n"
          ]
        }
      ]
    },
    {
      "cell_type": "markdown",
      "source": [
        "###Question 3###\n",
        "Find the list index values of each automobile having a “price” rating of \"med\". Create a new list object with your result. HINT: you can accomplish this task by searching the list of price values you created earlier. Be sure to print your results.\n"
      ],
      "metadata": {
        "id": "Bia80Q7Y2yHR"
      }
    },
    {
      "cell_type": "code",
      "source": [
        "med_list = []\n",
        "for x in range(len(Price)):\n",
        "  if Price[x] == 'med':\n",
        "    med_list.append(x)\n",
        "print(f'Med List \\n {med_list}')\n",
        "# I checked the df again to make sure and the answer is correct"
      ],
      "metadata": {
        "colab": {
          "base_uri": "https://localhost:8080/"
        },
        "id": "oMfca5pc2y3D",
        "outputId": "e48b6d2a-153e-40b7-e58a-598dfa244e3c"
      },
      "execution_count": null,
      "outputs": [
        {
          "output_type": "stream",
          "name": "stdout",
          "text": [
            "Med List \n",
            " [6, 16, 20, 23, 26, 29]\n"
          ]
        }
      ]
    },
    {
      "cell_type": "markdown",
      "source": [
        "###Question 4###\n",
        "Find the \"number of passengers\" value for each auto having a \"price\" value of \"med\". Create a new list to store your findings and be sure to print your results"
      ],
      "metadata": {
        "id": "vs3Cv1dq21ML"
      }
    },
    {
      "cell_type": "code",
      "source": [
        "new_med_list = []\n",
        "for x in range(len(Price)):\n",
        "  if Price[x] == 'med':\n",
        "    new_med_list.append(df['Number of Passengers'].values[x])\n",
        "print(f'Med List \\n {med_list}')\n",
        "print(f'New Med List \\n {new_med_list}')"
      ],
      "metadata": {
        "colab": {
          "base_uri": "https://localhost:8080/"
        },
        "id": "b1TjYA0A21j0",
        "outputId": "66921a35-df8a-4db2-d71d-992ee66a9070"
      },
      "execution_count": 154,
      "outputs": [
        {
          "output_type": "stream",
          "name": "stdout",
          "text": [
            "Med List \n",
            " [6, 16, 20, 23, 26, 29]\n",
            "New Med List \n",
            " ['more', '2', '2', '2', '4', '2']\n"
          ]
        }
      ]
    },
    {
      "cell_type": "markdown",
      "source": [
        "###Question 5###\n",
        "Find the index value for each automobile having a “price” value of \"high\" and a “maintenance” value that is not \"low\". Create a new list to store your findings and be sure to print your results.\n"
      ],
      "metadata": {
        "id": "c7uCmfZk227m"
      }
    },
    {
      "cell_type": "code",
      "source": [
        "new_list = []\n",
        "for i in range(len(Price)):\n",
        "    if Price[i] == 'high' and Maintenance_Cost[i] != 'low':\n",
        "        new_list.append(i)\n",
        "print(new_list)"
      ],
      "metadata": {
        "colab": {
          "base_uri": "https://localhost:8080/"
        },
        "id": "ylkuRVut23XT",
        "outputId": "1852bec2-c424-41c2-ed8b-81770d68d69b"
      },
      "execution_count": 146,
      "outputs": [
        {
          "output_type": "stream",
          "name": "stdout",
          "text": [
            "[0, 1, 2, 27, 31]\n"
          ]
        }
      ]
    },
    {
      "cell_type": "markdown",
      "source": [
        "###Question 6###\n",
        "Find the list index values of each automobile having a price rating of \"med using a list comprehension instead of a basic for or while loop. The list comprehension should create a new list containing your result. Be sure to print your results to the screen."
      ],
      "metadata": {
        "id": "00SfzSyt24c4"
      }
    },
    {
      "cell_type": "code",
      "source": [
        "med_price_list=[]\n",
        "med_price_list =[[x for x in range(len(Price)) if Price[x] == 'med']]\n",
        "print(med_price_list)\n"
      ],
      "metadata": {
        "id": "_8dM6KG524zL",
        "colab": {
          "base_uri": "https://localhost:8080/"
        },
        "outputId": "37bb00c4-0747-4721-d522-92670f73b79f"
      },
      "execution_count": 133,
      "outputs": [
        {
          "output_type": "stream",
          "name": "stdout",
          "text": [
            "[[6, 16, 20, 23, 26, 29]]\n"
          ]
        }
      ]
    },
    {
      "cell_type": "markdown",
      "source": [
        "###Question 7###\n",
        "Find the \"number of passengers\" value for each auto having a \"price\" value of \"med\" using a list comprehension instead of a basic for or while loop. The list comprehension should create a new list containing your findings. Be sure to print your results to the screen.\n"
      ],
      "metadata": {
        "id": "YVUr2EqA2526"
      }
    },
    {
      "cell_type": "code",
      "source": [
        "new_med_price_list=[]\n",
        "new_med_price_list =[[df['Number of Passengers'].values[x] for x in range(len(Price))  if Price[x] == 'med'  ]]\n",
        "print(new_med_price_list)"
      ],
      "metadata": {
        "id": "kCSkeZvu26Ty",
        "colab": {
          "base_uri": "https://localhost:8080/"
        },
        "outputId": "88f6fc49-78f0-4ae2-d15d-6a385779ecc7"
      },
      "execution_count": 156,
      "outputs": [
        {
          "output_type": "stream",
          "name": "stdout",
          "text": [
            "[['more', '2', '2', '2', '4', '2']]\n"
          ]
        }
      ]
    },
    {
      "cell_type": "markdown",
      "source": [
        "###Question 8###\n",
        "Find the index value for each automobile having a price value of \"high\" and a maintenance value that is not \"low\" using a list comprehension. The list comprehension should create a new list containing your findings. Be sure to print your results to the screen."
      ],
      "metadata": {
        "id": "k5HbfBcf27dl"
      }
    },
    {
      "cell_type": "code",
      "source": [
        "#and Maintenance_Cost != 'low'\n",
        "#for y in range(len(Maintenance_Cost))\n",
        "new_list2=[]\n",
        "new_list2 =[[x for x in range(len(Price)) if Price[x] == 'high' and Maintenance_Cost[x] != 'low']]\n",
        "print(new_list2)\n"
      ],
      "metadata": {
        "colab": {
          "base_uri": "https://localhost:8080/"
        },
        "id": "oBSe05MWhOAk",
        "outputId": "257c90c2-3fc9-456a-eb97-74471aaf082c"
      },
      "execution_count": 145,
      "outputs": [
        {
          "output_type": "stream",
          "name": "stdout",
          "text": [
            "[[0, 1, 2, 27, 31]]\n"
          ]
        }
      ]
    },
    {
      "cell_type": "markdown",
      "source": [
        "###Question 9###\n",
        "Consider the following list of lists: nlist = [ [1, 2, 3], [‘A’, ‘B’, ‘C’], [4, 5], [‘D’, ‘E’] ]. Extract each individual element of the component lists contained within nlist and add them to a new list.  Do NOT use a nested for loop, use a list comprehension.\n"
      ],
      "metadata": {
        "id": "8JU9LUXFhPDe"
      }
    },
    {
      "cell_type": "code",
      "source": [
        "nlist = [ [1, 2, 3], ['A', 'B', 'C'], [4, 5], ['D', 'E'] ]\n",
        "print(nlist)\n",
        "#flattened the list\n",
        "#got help from \n",
        "#https://www.programiz.com/python-programming/examples/flatten-nested-list\n",
        "one_list = [num for sublist in nlist for num in sublist]\n",
        "print(one_list)\n"
      ],
      "metadata": {
        "colab": {
          "base_uri": "https://localhost:8080/"
        },
        "id": "GnT8neFvhYid",
        "outputId": "1c5eee4c-a1f9-4fe1-c8cd-153631beba76"
      },
      "execution_count": 157,
      "outputs": [
        {
          "output_type": "stream",
          "name": "stdout",
          "text": [
            "[[1, 2, 3], ['A', 'B', 'C'], [4, 5], ['D', 'E']]\n",
            "[1, 2, 3, 'A', 'B', 'C', 4, 5, 'D', 'E']\n"
          ]
        }
      ]
    }
  ]
}