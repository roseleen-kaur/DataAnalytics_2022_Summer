{
  "nbformat": 4,
  "nbformat_minor": 0,
  "metadata": {
    "colab": {
      "name": "NumpyHW.ipynb",
      "provenance": [],
      "collapsed_sections": [],
      "authorship_tag": "ABX9TyO9vZ2fOVayV0MUIK8XSUrU",
      "include_colab_link": true
    },
    "kernelspec": {
      "name": "python3",
      "display_name": "Python 3"
    },
    "language_info": {
      "name": "python"
    }
  },
  "cells": [
    {
      "cell_type": "markdown",
      "metadata": {
        "id": "view-in-github",
        "colab_type": "text"
      },
      "source": [
        "<a href=\"https://colab.research.google.com/github/roseleen-kaur/DataAnalytics_2022_Summer/blob/main/NumpyHW.ipynb\" target=\"_parent\"><img src=\"https://colab.research.google.com/assets/colab-badge.svg\" alt=\"Open In Colab\"/></a>"
      ]
    },
    {
      "cell_type": "markdown",
      "source": [
        "#NUMPY HOMEWORK#\n",
        "Roseleen Kaur"
      ],
      "metadata": {
        "id": "Dsfm3wIUgtDP"
      }
    },
    {
      "cell_type": "markdown",
      "source": [
        "###Question 1###\n",
        "Write a Python/NumPy code block that finds the distinct/unique common items between these two arrays: \n",
        "```\n",
        "a = np.array([1, 2, 3, 2, 3, 4, 3, 4, 5, 6])\n",
        "\n",
        "b = np.array([7, 2, 10, 2, 7, 4, 9, 4, 9, 8])\n",
        "```\n",
        "\n",
        "Your output should contain only the distinct overlapping values. For example, if a 2 is found in both array a and array b,\n",
        "your output should contain only one 2 even if array a contains more than one 2 within it.\n",
        "\n"
      ],
      "metadata": {
        "id": "BOowLuXQZT7K"
      }
    },
    {
      "cell_type": "code",
      "source": [
        "import numpy as np\n",
        "\n",
        "a = np.array([1,2,3,4,5,6])\n",
        "b = np.array([7,2,10,2,7,4,9,4,8])\n",
        "\n",
        "#finding distinct/ unique items\n",
        "#https://www.geeksforgeeks.org/find-common-values-between-two-numpy-arrays/:~:text=In%20NumPy%2C%20we%20can%20find,the%20common%20elements%20will%20appear.\n",
        "print(np.intersect1d(a, b))"
      ],
      "metadata": {
        "colab": {
          "base_uri": "https://localhost:8080/"
        },
        "id": "g9tFP5eZaCf_",
        "outputId": "819390aa-21fc-4b02-b6ed-05620724718a"
      },
      "execution_count": 132,
      "outputs": [
        {
          "output_type": "stream",
          "name": "stdout",
          "text": [
            "[2 4]\n"
          ]
        }
      ]
    },
    {
      "cell_type": "markdown",
      "source": [
        "### Question 2 ###\n",
        "Create the following 5x3 array using knowledge you have of Python’s / NumPy’s sequencing functionality\n",
        "so that you do not need to explicitly key in every integer value.\n",
        "\n",
        "1   6    11\n",
        "\n",
        "2   7    12\n",
        "\n",
        "3   8    13\n",
        "\n",
        "4   9    14\n",
        "\n",
        "5   10   15\n",
        "\n"
      ],
      "metadata": {
        "id": "cdxYWSsZcl7A"
      }
    },
    {
      "cell_type": "code",
      "source": [
        "arr = np.arange(1,16).reshape(3,5)\n",
        "print(f'Arr \\n {arr.T}')"
      ],
      "metadata": {
        "colab": {
          "base_uri": "https://localhost:8080/"
        },
        "id": "gHIvtKMIdBgi",
        "outputId": "434cc9f4-fd2f-4a22-846c-a96abd18b13b"
      },
      "execution_count": 133,
      "outputs": [
        {
          "output_type": "stream",
          "name": "stdout",
          "text": [
            "Arr \n",
            " [[ 1  6 11]\n",
            " [ 2  7 12]\n",
            " [ 3  8 13]\n",
            " [ 4  9 14]\n",
            " [ 5 10 15]]\n"
          ]
        }
      ]
    },
    {
      "cell_type": "markdown",
      "source": [
        "### Question 3 ###\n",
        "The process of transforming a multidimensional array into a unidimensional array is referred to as “flattening”. Transform the 5x3 array shown above in Problem 2 into a unidimensional array such that the sequence of values contained within the array is as follows: \n",
        "\n",
        "1, 2, 3, 4, 5, 6, 7, 8, 9, 10, 11, 12, 13, 14, 15"
      ],
      "metadata": {
        "id": "Kkhcs71Ee91n"
      }
    },
    {
      "cell_type": "code",
      "source": [
        "arr2 = arr.flatten()\n",
        "print(f'Arr2 \\n {arr2}')"
      ],
      "metadata": {
        "id": "ntHAX0eke-Tv",
        "colab": {
          "base_uri": "https://localhost:8080/"
        },
        "outputId": "493b0921-106c-4c09-8d2d-6a75dfc3168a"
      },
      "execution_count": 134,
      "outputs": [
        {
          "output_type": "stream",
          "name": "stdout",
          "text": [
            "Arr2 \n",
            " [ 1  2  3  4  5  6  7  8  9 10 11 12 13 14 15]\n"
          ]
        }
      ]
    },
    {
      "cell_type": "markdown",
      "source": [
        "### Question 4 ###\n",
        "Transform the 2-D array shown in Problem 2 into a 3 dimensional array such that the first column becomes the first dimension of the 3-D array, the second column becomes the second dimension of the 3-D array, and the third column becomes the third dimension of the 3-D array."
      ],
      "metadata": {
        "id": "SIxS-OsVe-4R"
      }
    },
    {
      "cell_type": "code",
      "source": [
        "new_arr = arr.reshape(3,1,5)\n",
        "print(f'3-D Array \\n {new_arr}')\n"
      ],
      "metadata": {
        "id": "jaV0sJWie_Ny",
        "colab": {
          "base_uri": "https://localhost:8080/"
        },
        "outputId": "fc04ea90-5c7d-4df3-cf12-93191bad67c5"
      },
      "execution_count": 136,
      "outputs": [
        {
          "output_type": "stream",
          "name": "stdout",
          "text": [
            "3-D Array \n",
            " [[[ 1  2  3  4  5]]\n",
            "\n",
            " [[ 6  7  8  9 10]]\n",
            "\n",
            " [[11 12 13 14 15]]]\n"
          ]
        }
      ]
    },
    {
      "cell_type": "markdown",
      "source": [
        "### Question 5 ###\n",
        "Transform the 3-D array you created in Problem 4 back to the 2-dimensional format shown in Problem 2.\n",
        "\n"
      ],
      "metadata": {
        "id": "kgCeRKEZe_uw"
      }
    },
    {
      "cell_type": "code",
      "source": [
        "org_arr = new_arr.reshape(3,5) \n",
        "print(f'Back to the Original \\n {org_arr.T}')"
      ],
      "metadata": {
        "id": "0Vj381GDfAMb",
        "colab": {
          "base_uri": "https://localhost:8080/"
        },
        "outputId": "be98820e-1274-4971-8e14-ab98e120d354"
      },
      "execution_count": 137,
      "outputs": [
        {
          "output_type": "stream",
          "name": "stdout",
          "text": [
            "Back to the Original \n",
            " [[ 1  6 11]\n",
            " [ 2  7 12]\n",
            " [ 3  8 13]\n",
            " [ 4  9 14]\n",
            " [ 5 10 15]]\n"
          ]
        }
      ]
    },
    {
      "cell_type": "markdown",
      "source": [
        "###Question 6###\n",
        "You are given the following two arrays:\n",
        "```\n",
        "a = np.array([12, 5, 7, 15, 3, 1, 8])\n",
        "\n",
        "b = np.array([14, 6, 3, 11, 19, 12, 5])\n",
        "```\n",
        "Write a Python/Numpy code block that removes from array a any items that are also present in array b.\n",
        "\n"
      ],
      "metadata": {
        "id": "7WwM_xnhfAqg"
      }
    },
    {
      "cell_type": "code",
      "source": [
        "a = np.array([12, 5, 7, 15, 3, 1, 8])\n",
        "\n",
        "b = np.array([14, 6, 3, 11, 19, 12, 5])\n",
        "\n",
        "#so here 3, 12, and 5 will disappear from array a\n",
        "#https://stackoverflow.com/questions/10996140/how-to-remove-specific-elements-in-a-numpy-array\n",
        "#this is where I got the np.setdiff1d from, it seemed like the best answer, \n",
        "#it removed the similar values.\n",
        "new_a = np.setdiff1d(a,b)\n",
        "print(f'Old a: {a}')\n",
        "print(f'New a: {new_a}')\n",
        "print(f'b:     {b}')\n"
      ],
      "metadata": {
        "id": "GYDxIiaifBIJ",
        "colab": {
          "base_uri": "https://localhost:8080/"
        },
        "outputId": "9e8df429-c591-453f-d3ed-a083f5458c01"
      },
      "execution_count": 139,
      "outputs": [
        {
          "output_type": "stream",
          "name": "stdout",
          "text": [
            "Old a: [12  5  7 15  3  1  8]\n",
            "New a: [ 1  7  8 15]\n",
            "b:     [14  6  3 11 19 12  5]\n"
          ]
        }
      ]
    },
    {
      "cell_type": "markdown",
      "source": [
        "#DATA SET QUESTIONS #\n"
      ],
      "metadata": {
        "id": "oU9J-xrUqo0n"
      }
    },
    {
      "cell_type": "markdown",
      "source": [
        "### Question 7###\n",
        "Answer the following questions about the accompanying data file.\n",
        "\n"
      ],
      "metadata": {
        "id": "5aiA6YhCfBnM"
      }
    },
    {
      "cell_type": "code",
      "source": [
        "#first read the file.\n",
        "import pandas as pd\n",
        "\n",
        "df = pd.read_csv('https://raw.githubusercontent.com/roseleen-kaur/DataAnalytics_2022_Summer/main/Module6_Data.csv')\n",
        "df"
      ],
      "metadata": {
        "id": "W4jBjARIfB5A",
        "colab": {
          "base_uri": "https://localhost:8080/",
          "height": 946
        },
        "outputId": "512c886a-5cd0-499f-8cd3-337a862d7827"
      },
      "execution_count": 140,
      "outputs": [
        {
          "output_type": "execute_result",
          "data": {
            "text/plain": [
              "    Year  New York City Population  NYC Consumption(Million gallons per day)  \\\n",
              "0   1979                 7102100.0                                    1512.0   \n",
              "1   1980                 7071639.0                                    1506.0   \n",
              "2   1981                 7089241.0                                    1309.0   \n",
              "3   1982                 7109105.0                                    1382.0   \n",
              "4   1983                 7181224.0                                    1424.0   \n",
              "5   1984                 7234514.0                                    1465.0   \n",
              "6   1985                 7274054.0                                    1326.0   \n",
              "7   1986                 7319246.0                                    1351.0   \n",
              "8   1987                 7342476.0                                    1447.0   \n",
              "9   1988                 7353719.0                                    1484.0   \n",
              "10  1989                 7344175.0                                    1402.0   \n",
              "11  1990                 7335650.0                                    1424.0   \n",
              "12  1991                 7374501.0                                    1469.0   \n",
              "13  1992                 7428944.0                                    1369.0   \n",
              "14  1993                 7506166.0                                    1368.5   \n",
              "15  1994                 7570458.0                                    1357.7   \n",
              "16  1995                 7633040.0                                    1325.7   \n",
              "17  1996                 7697812.0                                    1297.9   \n",
              "18  1997                 7773443.0                                    1205.5   \n",
              "19  1998                 7858259.0                                    1219.5   \n",
              "20  1999                 7947660.0                                    1237.2   \n",
              "21  2000                 8008278.0                                    1240.4   \n",
              "22  2001                 8024963.5                                    1184.0   \n",
              "23  2002                 8041649.0                                    1135.6   \n",
              "24  2003                 8058334.5                                    1093.7   \n",
              "25  2004                 8075020.0                                    1099.5   \n",
              "26  2005                 8091705.5                                    1138.0   \n",
              "27  2006                 8108391.0                                    1069.0   \n",
              "28  2007                 8125076.5                                    1114.0   \n",
              "29  2008                 8141762.0                                    1098.0   \n",
              "30  2009                 8158447.5                                    1007.5   \n",
              "31  2010                 8175133.0                                    1039.0   \n",
              "32  2011                 8284098.0                                    1021.0   \n",
              "33  2012                 8361179.0                                    1009.1   \n",
              "34  2013                 8422460.0                                    1006.1   \n",
              "35  2014                 8471990.0                                     996.0   \n",
              "36  2015                 8516502.0                                    1009.0   \n",
              "37  2016                 8537673.0                                    1002.0   \n",
              "38  2017                 8622698.0                                     990.2   \n",
              "\n",
              "    Per Capita(Gallons per person per day)  \n",
              "0                                      213  \n",
              "1                                      213  \n",
              "2                                      185  \n",
              "3                                      194  \n",
              "4                                      198  \n",
              "5                                      203  \n",
              "6                                      182  \n",
              "7                                      185  \n",
              "8                                      197  \n",
              "9                                      202  \n",
              "10                                     191  \n",
              "11                                     194  \n",
              "12                                     199  \n",
              "13                                     184  \n",
              "14                                     182  \n",
              "15                                     179  \n",
              "16                                     174  \n",
              "17                                     169  \n",
              "18                                     155  \n",
              "19                                     155  \n",
              "20                                     156  \n",
              "21                                     155  \n",
              "22                                     148  \n",
              "23                                     141  \n",
              "24                                     136  \n",
              "25                                     136  \n",
              "26                                     141  \n",
              "27                                     132  \n",
              "28                                     137  \n",
              "29                                     135  \n",
              "30                                     123  \n",
              "31                                     127  \n",
              "32                                     123  \n",
              "33                                     121  \n",
              "34                                     119  \n",
              "35                                     118  \n",
              "36                                     118  \n",
              "37                                     117  \n",
              "38                                     115  "
            ],
            "text/html": [
              "\n",
              "  <div id=\"df-80ddd31c-cd9c-475b-ae85-dac2adc3d59f\">\n",
              "    <div class=\"colab-df-container\">\n",
              "      <div>\n",
              "<style scoped>\n",
              "    .dataframe tbody tr th:only-of-type {\n",
              "        vertical-align: middle;\n",
              "    }\n",
              "\n",
              "    .dataframe tbody tr th {\n",
              "        vertical-align: top;\n",
              "    }\n",
              "\n",
              "    .dataframe thead th {\n",
              "        text-align: right;\n",
              "    }\n",
              "</style>\n",
              "<table border=\"1\" class=\"dataframe\">\n",
              "  <thead>\n",
              "    <tr style=\"text-align: right;\">\n",
              "      <th></th>\n",
              "      <th>Year</th>\n",
              "      <th>New York City Population</th>\n",
              "      <th>NYC Consumption(Million gallons per day)</th>\n",
              "      <th>Per Capita(Gallons per person per day)</th>\n",
              "    </tr>\n",
              "  </thead>\n",
              "  <tbody>\n",
              "    <tr>\n",
              "      <th>0</th>\n",
              "      <td>1979</td>\n",
              "      <td>7102100.0</td>\n",
              "      <td>1512.0</td>\n",
              "      <td>213</td>\n",
              "    </tr>\n",
              "    <tr>\n",
              "      <th>1</th>\n",
              "      <td>1980</td>\n",
              "      <td>7071639.0</td>\n",
              "      <td>1506.0</td>\n",
              "      <td>213</td>\n",
              "    </tr>\n",
              "    <tr>\n",
              "      <th>2</th>\n",
              "      <td>1981</td>\n",
              "      <td>7089241.0</td>\n",
              "      <td>1309.0</td>\n",
              "      <td>185</td>\n",
              "    </tr>\n",
              "    <tr>\n",
              "      <th>3</th>\n",
              "      <td>1982</td>\n",
              "      <td>7109105.0</td>\n",
              "      <td>1382.0</td>\n",
              "      <td>194</td>\n",
              "    </tr>\n",
              "    <tr>\n",
              "      <th>4</th>\n",
              "      <td>1983</td>\n",
              "      <td>7181224.0</td>\n",
              "      <td>1424.0</td>\n",
              "      <td>198</td>\n",
              "    </tr>\n",
              "    <tr>\n",
              "      <th>5</th>\n",
              "      <td>1984</td>\n",
              "      <td>7234514.0</td>\n",
              "      <td>1465.0</td>\n",
              "      <td>203</td>\n",
              "    </tr>\n",
              "    <tr>\n",
              "      <th>6</th>\n",
              "      <td>1985</td>\n",
              "      <td>7274054.0</td>\n",
              "      <td>1326.0</td>\n",
              "      <td>182</td>\n",
              "    </tr>\n",
              "    <tr>\n",
              "      <th>7</th>\n",
              "      <td>1986</td>\n",
              "      <td>7319246.0</td>\n",
              "      <td>1351.0</td>\n",
              "      <td>185</td>\n",
              "    </tr>\n",
              "    <tr>\n",
              "      <th>8</th>\n",
              "      <td>1987</td>\n",
              "      <td>7342476.0</td>\n",
              "      <td>1447.0</td>\n",
              "      <td>197</td>\n",
              "    </tr>\n",
              "    <tr>\n",
              "      <th>9</th>\n",
              "      <td>1988</td>\n",
              "      <td>7353719.0</td>\n",
              "      <td>1484.0</td>\n",
              "      <td>202</td>\n",
              "    </tr>\n",
              "    <tr>\n",
              "      <th>10</th>\n",
              "      <td>1989</td>\n",
              "      <td>7344175.0</td>\n",
              "      <td>1402.0</td>\n",
              "      <td>191</td>\n",
              "    </tr>\n",
              "    <tr>\n",
              "      <th>11</th>\n",
              "      <td>1990</td>\n",
              "      <td>7335650.0</td>\n",
              "      <td>1424.0</td>\n",
              "      <td>194</td>\n",
              "    </tr>\n",
              "    <tr>\n",
              "      <th>12</th>\n",
              "      <td>1991</td>\n",
              "      <td>7374501.0</td>\n",
              "      <td>1469.0</td>\n",
              "      <td>199</td>\n",
              "    </tr>\n",
              "    <tr>\n",
              "      <th>13</th>\n",
              "      <td>1992</td>\n",
              "      <td>7428944.0</td>\n",
              "      <td>1369.0</td>\n",
              "      <td>184</td>\n",
              "    </tr>\n",
              "    <tr>\n",
              "      <th>14</th>\n",
              "      <td>1993</td>\n",
              "      <td>7506166.0</td>\n",
              "      <td>1368.5</td>\n",
              "      <td>182</td>\n",
              "    </tr>\n",
              "    <tr>\n",
              "      <th>15</th>\n",
              "      <td>1994</td>\n",
              "      <td>7570458.0</td>\n",
              "      <td>1357.7</td>\n",
              "      <td>179</td>\n",
              "    </tr>\n",
              "    <tr>\n",
              "      <th>16</th>\n",
              "      <td>1995</td>\n",
              "      <td>7633040.0</td>\n",
              "      <td>1325.7</td>\n",
              "      <td>174</td>\n",
              "    </tr>\n",
              "    <tr>\n",
              "      <th>17</th>\n",
              "      <td>1996</td>\n",
              "      <td>7697812.0</td>\n",
              "      <td>1297.9</td>\n",
              "      <td>169</td>\n",
              "    </tr>\n",
              "    <tr>\n",
              "      <th>18</th>\n",
              "      <td>1997</td>\n",
              "      <td>7773443.0</td>\n",
              "      <td>1205.5</td>\n",
              "      <td>155</td>\n",
              "    </tr>\n",
              "    <tr>\n",
              "      <th>19</th>\n",
              "      <td>1998</td>\n",
              "      <td>7858259.0</td>\n",
              "      <td>1219.5</td>\n",
              "      <td>155</td>\n",
              "    </tr>\n",
              "    <tr>\n",
              "      <th>20</th>\n",
              "      <td>1999</td>\n",
              "      <td>7947660.0</td>\n",
              "      <td>1237.2</td>\n",
              "      <td>156</td>\n",
              "    </tr>\n",
              "    <tr>\n",
              "      <th>21</th>\n",
              "      <td>2000</td>\n",
              "      <td>8008278.0</td>\n",
              "      <td>1240.4</td>\n",
              "      <td>155</td>\n",
              "    </tr>\n",
              "    <tr>\n",
              "      <th>22</th>\n",
              "      <td>2001</td>\n",
              "      <td>8024963.5</td>\n",
              "      <td>1184.0</td>\n",
              "      <td>148</td>\n",
              "    </tr>\n",
              "    <tr>\n",
              "      <th>23</th>\n",
              "      <td>2002</td>\n",
              "      <td>8041649.0</td>\n",
              "      <td>1135.6</td>\n",
              "      <td>141</td>\n",
              "    </tr>\n",
              "    <tr>\n",
              "      <th>24</th>\n",
              "      <td>2003</td>\n",
              "      <td>8058334.5</td>\n",
              "      <td>1093.7</td>\n",
              "      <td>136</td>\n",
              "    </tr>\n",
              "    <tr>\n",
              "      <th>25</th>\n",
              "      <td>2004</td>\n",
              "      <td>8075020.0</td>\n",
              "      <td>1099.5</td>\n",
              "      <td>136</td>\n",
              "    </tr>\n",
              "    <tr>\n",
              "      <th>26</th>\n",
              "      <td>2005</td>\n",
              "      <td>8091705.5</td>\n",
              "      <td>1138.0</td>\n",
              "      <td>141</td>\n",
              "    </tr>\n",
              "    <tr>\n",
              "      <th>27</th>\n",
              "      <td>2006</td>\n",
              "      <td>8108391.0</td>\n",
              "      <td>1069.0</td>\n",
              "      <td>132</td>\n",
              "    </tr>\n",
              "    <tr>\n",
              "      <th>28</th>\n",
              "      <td>2007</td>\n",
              "      <td>8125076.5</td>\n",
              "      <td>1114.0</td>\n",
              "      <td>137</td>\n",
              "    </tr>\n",
              "    <tr>\n",
              "      <th>29</th>\n",
              "      <td>2008</td>\n",
              "      <td>8141762.0</td>\n",
              "      <td>1098.0</td>\n",
              "      <td>135</td>\n",
              "    </tr>\n",
              "    <tr>\n",
              "      <th>30</th>\n",
              "      <td>2009</td>\n",
              "      <td>8158447.5</td>\n",
              "      <td>1007.5</td>\n",
              "      <td>123</td>\n",
              "    </tr>\n",
              "    <tr>\n",
              "      <th>31</th>\n",
              "      <td>2010</td>\n",
              "      <td>8175133.0</td>\n",
              "      <td>1039.0</td>\n",
              "      <td>127</td>\n",
              "    </tr>\n",
              "    <tr>\n",
              "      <th>32</th>\n",
              "      <td>2011</td>\n",
              "      <td>8284098.0</td>\n",
              "      <td>1021.0</td>\n",
              "      <td>123</td>\n",
              "    </tr>\n",
              "    <tr>\n",
              "      <th>33</th>\n",
              "      <td>2012</td>\n",
              "      <td>8361179.0</td>\n",
              "      <td>1009.1</td>\n",
              "      <td>121</td>\n",
              "    </tr>\n",
              "    <tr>\n",
              "      <th>34</th>\n",
              "      <td>2013</td>\n",
              "      <td>8422460.0</td>\n",
              "      <td>1006.1</td>\n",
              "      <td>119</td>\n",
              "    </tr>\n",
              "    <tr>\n",
              "      <th>35</th>\n",
              "      <td>2014</td>\n",
              "      <td>8471990.0</td>\n",
              "      <td>996.0</td>\n",
              "      <td>118</td>\n",
              "    </tr>\n",
              "    <tr>\n",
              "      <th>36</th>\n",
              "      <td>2015</td>\n",
              "      <td>8516502.0</td>\n",
              "      <td>1009.0</td>\n",
              "      <td>118</td>\n",
              "    </tr>\n",
              "    <tr>\n",
              "      <th>37</th>\n",
              "      <td>2016</td>\n",
              "      <td>8537673.0</td>\n",
              "      <td>1002.0</td>\n",
              "      <td>117</td>\n",
              "    </tr>\n",
              "    <tr>\n",
              "      <th>38</th>\n",
              "      <td>2017</td>\n",
              "      <td>8622698.0</td>\n",
              "      <td>990.2</td>\n",
              "      <td>115</td>\n",
              "    </tr>\n",
              "  </tbody>\n",
              "</table>\n",
              "</div>\n",
              "      <button class=\"colab-df-convert\" onclick=\"convertToInteractive('df-80ddd31c-cd9c-475b-ae85-dac2adc3d59f')\"\n",
              "              title=\"Convert this dataframe to an interactive table.\"\n",
              "              style=\"display:none;\">\n",
              "        \n",
              "  <svg xmlns=\"http://www.w3.org/2000/svg\" height=\"24px\"viewBox=\"0 0 24 24\"\n",
              "       width=\"24px\">\n",
              "    <path d=\"M0 0h24v24H0V0z\" fill=\"none\"/>\n",
              "    <path d=\"M18.56 5.44l.94 2.06.94-2.06 2.06-.94-2.06-.94-.94-2.06-.94 2.06-2.06.94zm-11 1L8.5 8.5l.94-2.06 2.06-.94-2.06-.94L8.5 2.5l-.94 2.06-2.06.94zm10 10l.94 2.06.94-2.06 2.06-.94-2.06-.94-.94-2.06-.94 2.06-2.06.94z\"/><path d=\"M17.41 7.96l-1.37-1.37c-.4-.4-.92-.59-1.43-.59-.52 0-1.04.2-1.43.59L10.3 9.45l-7.72 7.72c-.78.78-.78 2.05 0 2.83L4 21.41c.39.39.9.59 1.41.59.51 0 1.02-.2 1.41-.59l7.78-7.78 2.81-2.81c.8-.78.8-2.07 0-2.86zM5.41 20L4 18.59l7.72-7.72 1.47 1.35L5.41 20z\"/>\n",
              "  </svg>\n",
              "      </button>\n",
              "      \n",
              "  <style>\n",
              "    .colab-df-container {\n",
              "      display:flex;\n",
              "      flex-wrap:wrap;\n",
              "      gap: 12px;\n",
              "    }\n",
              "\n",
              "    .colab-df-convert {\n",
              "      background-color: #E8F0FE;\n",
              "      border: none;\n",
              "      border-radius: 50%;\n",
              "      cursor: pointer;\n",
              "      display: none;\n",
              "      fill: #1967D2;\n",
              "      height: 32px;\n",
              "      padding: 0 0 0 0;\n",
              "      width: 32px;\n",
              "    }\n",
              "\n",
              "    .colab-df-convert:hover {\n",
              "      background-color: #E2EBFA;\n",
              "      box-shadow: 0px 1px 2px rgba(60, 64, 67, 0.3), 0px 1px 3px 1px rgba(60, 64, 67, 0.15);\n",
              "      fill: #174EA6;\n",
              "    }\n",
              "\n",
              "    [theme=dark] .colab-df-convert {\n",
              "      background-color: #3B4455;\n",
              "      fill: #D2E3FC;\n",
              "    }\n",
              "\n",
              "    [theme=dark] .colab-df-convert:hover {\n",
              "      background-color: #434B5C;\n",
              "      box-shadow: 0px 1px 3px 1px rgba(0, 0, 0, 0.15);\n",
              "      filter: drop-shadow(0px 1px 2px rgba(0, 0, 0, 0.3));\n",
              "      fill: #FFFFFF;\n",
              "    }\n",
              "  </style>\n",
              "\n",
              "      <script>\n",
              "        const buttonEl =\n",
              "          document.querySelector('#df-80ddd31c-cd9c-475b-ae85-dac2adc3d59f button.colab-df-convert');\n",
              "        buttonEl.style.display =\n",
              "          google.colab.kernel.accessAllowed ? 'block' : 'none';\n",
              "\n",
              "        async function convertToInteractive(key) {\n",
              "          const element = document.querySelector('#df-80ddd31c-cd9c-475b-ae85-dac2adc3d59f');\n",
              "          const dataTable =\n",
              "            await google.colab.kernel.invokeFunction('convertToInteractive',\n",
              "                                                     [key], {});\n",
              "          if (!dataTable) return;\n",
              "\n",
              "          const docLinkHtml = 'Like what you see? Visit the ' +\n",
              "            '<a target=\"_blank\" href=https://colab.research.google.com/notebooks/data_table.ipynb>data table notebook</a>'\n",
              "            + ' to learn more about interactive tables.';\n",
              "          element.innerHTML = '';\n",
              "          dataTable['output_type'] = 'display_data';\n",
              "          await google.colab.output.renderOutput(dataTable, element);\n",
              "          const docLink = document.createElement('div');\n",
              "          docLink.innerHTML = docLinkHtml;\n",
              "          element.appendChild(docLink);\n",
              "        }\n",
              "      </script>\n",
              "    </div>\n",
              "  </div>\n",
              "  "
            ]
          },
          "metadata": {},
          "execution_count": 140
        }
      ]
    },
    {
      "cell_type": "markdown",
      "source": [
        "### Question 7.1 ###\n",
        "What is the maximum yearly NYC consumption of water in millions of gallons per day?"
      ],
      "metadata": {
        "id": "GetVR85saHbG"
      }
    },
    {
      "cell_type": "code",
      "source": [
        "#first we need to turn these into numpy arrays?\n",
        "Year = df['Year'].values\n",
        "Pop  = df['New York City Population'].values\n",
        "nyc_consumption = df['NYC Consumption(Million gallons per day)'].values\n",
        "Per_Capita = df['Per Capita(Gallons per person per day)'].values\n",
        "print(f'Year\\n{Year}')\n",
        "print(f'Population\\n{Pop}')\n",
        "print(f'Consumption\\n{nyc_consumption}')\n",
        "print(f'Per Capita \\n{Per_Capita}')\n",
        "\n"
      ],
      "metadata": {
        "colab": {
          "base_uri": "https://localhost:8080/"
        },
        "id": "eF_xxUtJc0Ur",
        "outputId": "ada78612-f0f7-4a18-9b83-8cb3c5c7b998"
      },
      "execution_count": 142,
      "outputs": [
        {
          "output_type": "stream",
          "name": "stdout",
          "text": [
            "Year\n",
            "[1979 1980 1981 1982 1983 1984 1985 1986 1987 1988 1989 1990 1991 1992\n",
            " 1993 1994 1995 1996 1997 1998 1999 2000 2001 2002 2003 2004 2005 2006\n",
            " 2007 2008 2009 2010 2011 2012 2013 2014 2015 2016 2017]\n",
            "Population\n",
            "[7102100.  7071639.  7089241.  7109105.  7181224.  7234514.  7274054.\n",
            " 7319246.  7342476.  7353719.  7344175.  7335650.  7374501.  7428944.\n",
            " 7506166.  7570458.  7633040.  7697812.  7773443.  7858259.  7947660.\n",
            " 8008278.  8024963.5 8041649.  8058334.5 8075020.  8091705.5 8108391.\n",
            " 8125076.5 8141762.  8158447.5 8175133.  8284098.  8361179.  8422460.\n",
            " 8471990.  8516502.  8537673.  8622698. ]\n",
            "Consumption\n",
            "[1512.  1506.  1309.  1382.  1424.  1465.  1326.  1351.  1447.  1484.\n",
            " 1402.  1424.  1469.  1369.  1368.5 1357.7 1325.7 1297.9 1205.5 1219.5\n",
            " 1237.2 1240.4 1184.  1135.6 1093.7 1099.5 1138.  1069.  1114.  1098.\n",
            " 1007.5 1039.  1021.  1009.1 1006.1  996.  1009.  1002.   990.2]\n",
            "Per Capita \n",
            "[213 213 185 194 198 203 182 185 197 202 191 194 199 184 182 179 174 169\n",
            " 155 155 156 155 148 141 136 136 141 132 137 135 123 127 123 121 119 118\n",
            " 118 117 115]\n"
          ]
        }
      ]
    },
    {
      "cell_type": "code",
      "source": [
        "#then we answer the question\n",
        "max_yearly = np.max(nyc_consumption)\n",
        "print(f'Maximum Yearly NYC Consumption: {max_yearly}')"
      ],
      "metadata": {
        "colab": {
          "base_uri": "https://localhost:8080/"
        },
        "id": "yPVSGjEgnQ8m",
        "outputId": "5375c2aa-f5be-477f-8566-163150987b43"
      },
      "execution_count": 143,
      "outputs": [
        {
          "output_type": "stream",
          "name": "stdout",
          "text": [
            "Maximum Yearly NYC Consumption: 1512.0\n"
          ]
        }
      ]
    },
    {
      "cell_type": "markdown",
      "source": [
        "###Question 7.2 ###\n",
        "How many calendar years are represented within this data set? NumPy's shape command is one way to find\n",
        "out."
      ],
      "metadata": {
        "id": "rD_0vNmbn0rc"
      }
    },
    {
      "cell_type": "code",
      "source": [
        "print(f'Total Years: {Year.shape}')"
      ],
      "metadata": {
        "colab": {
          "base_uri": "https://localhost:8080/"
        },
        "id": "U-2Si0s6n_71",
        "outputId": "f9fe44e9-8ef3-46f0-d240-ce568c219d7f"
      },
      "execution_count": 144,
      "outputs": [
        {
          "output_type": "stream",
          "name": "stdout",
          "text": [
            "Total Years: (39,)\n"
          ]
        }
      ]
    },
    {
      "cell_type": "markdown",
      "source": [
        "###Question 7.3 ###\n",
        "What is the mean and the standard deviation of the per capita daily water consumption?"
      ],
      "metadata": {
        "id": "0dzlioeiozO5"
      }
    },
    {
      "cell_type": "code",
      "source": [
        "#first let's find the mean (average)\n",
        "mean = np.average(Per_Capita)\n",
        "print(f'Mean:{mean: .2f}')\n",
        "# then let's do the standard deviation\n",
        "std = np.std(Per_Capita)\n",
        "print(f'Standard Deviation:{std: .2f}')"
      ],
      "metadata": {
        "colab": {
          "base_uri": "https://localhost:8080/"
        },
        "id": "MjP3oQlCo4uJ",
        "outputId": "26184a95-c1ec-4db9-89ce-6bc51f071e15"
      },
      "execution_count": 145,
      "outputs": [
        {
          "output_type": "stream",
          "name": "stdout",
          "text": [
            "Mean: 160.31\n",
            "Standard Deviation: 31.52\n"
          ]
        }
      ]
    },
    {
      "cell_type": "markdown",
      "source": [
        "###Question 4###\n",
        "What is the increase or decrease in population from year to year? Use NumPy's `diff` function to create an array\n",
        "of differences and save that to a variable called \"pop_diff\", then print that variable to the screen."
      ],
      "metadata": {
        "id": "BjW9_1F5qckG"
      }
    },
    {
      "cell_type": "code",
      "source": [
        "#this finds the differences\n",
        "pop_diff = np.diff(Pop)\n",
        "print(f'Population Inc/Dec \\n{pop_diff}')\n",
        "#just to check that there are actually 38 differences\n",
        "#for 39 rows\n",
        "#print(pop_diff.shape)"
      ],
      "metadata": {
        "colab": {
          "base_uri": "https://localhost:8080/"
        },
        "id": "disi4WPgqilh",
        "outputId": "8502f9d4-dc46-4236-d36b-bd9e285a02b4"
      },
      "execution_count": 146,
      "outputs": [
        {
          "output_type": "stream",
          "name": "stdout",
          "text": [
            "Population Inc/Dec \n",
            "[-30461.   17602.   19864.   72119.   53290.   39540.   45192.   23230.\n",
            "  11243.   -9544.   -8525.   38851.   54443.   77222.   64292.   62582.\n",
            "  64772.   75631.   84816.   89401.   60618.   16685.5  16685.5  16685.5\n",
            "  16685.5  16685.5  16685.5  16685.5  16685.5  16685.5  16685.5 108965.\n",
            "  77081.   61281.   49530.   44512.   21171.   85025. ]\n"
          ]
        }
      ]
    }
  ]
}